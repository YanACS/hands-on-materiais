{
  "nbformat": 4,
  "nbformat_minor": 0,
  "metadata": {
    "colab": {
      "provenance": []
    },
    "kernelspec": {
      "name": "python3",
      "display_name": "Python 3"
    },
    "language_info": {
      "name": "python"
    }
  },
  "cells": [
    {
      "cell_type": "code",
      "execution_count": null,
      "metadata": {
        "colab": {
          "base_uri": "https://localhost:8080/"
        },
        "id": "OyXrZVSqzh5S",
        "outputId": "47a9823d-cfdc-4739-897e-20a8d611e2f7"
      },
      "outputs": [
        {
          "output_type": "stream",
          "name": "stdout",
          "text": [
            "Collecting qiskit\n",
            "  Downloading qiskit-2.0.0-cp39-abi3-manylinux_2_17_x86_64.manylinux2014_x86_64.whl.metadata (12 kB)\n",
            "Collecting rustworkx>=0.15.0 (from qiskit)\n",
            "  Downloading rustworkx-0.16.0-cp39-abi3-manylinux_2_17_x86_64.manylinux2014_x86_64.whl.metadata (10 kB)\n",
            "Requirement already satisfied: numpy<3,>=1.17 in /usr/local/lib/python3.11/dist-packages (from qiskit) (2.0.2)\n",
            "Requirement already satisfied: scipy>=1.5 in /usr/local/lib/python3.11/dist-packages (from qiskit) (1.15.3)\n",
            "Requirement already satisfied: sympy>=1.3 in /usr/local/lib/python3.11/dist-packages (from qiskit) (1.13.1)\n",
            "Requirement already satisfied: dill>=0.3 in /usr/local/lib/python3.11/dist-packages (from qiskit) (0.3.7)\n",
            "Requirement already satisfied: python-dateutil>=2.8.0 in /usr/local/lib/python3.11/dist-packages (from qiskit) (2.9.0.post0)\n",
            "Collecting stevedore>=3.0.0 (from qiskit)\n",
            "  Downloading stevedore-5.4.1-py3-none-any.whl.metadata (2.3 kB)\n",
            "Requirement already satisfied: typing-extensions in /usr/local/lib/python3.11/dist-packages (from qiskit) (4.13.2)\n",
            "Collecting symengine<0.14,>=0.11 (from qiskit)\n",
            "  Downloading symengine-0.13.0-cp311-cp311-manylinux_2_17_x86_64.manylinux2014_x86_64.whl.metadata (1.2 kB)\n",
            "Requirement already satisfied: six>=1.5 in /usr/local/lib/python3.11/dist-packages (from python-dateutil>=2.8.0->qiskit) (1.17.0)\n",
            "Collecting pbr>=2.0.0 (from stevedore>=3.0.0->qiskit)\n",
            "  Downloading pbr-6.1.1-py2.py3-none-any.whl.metadata (3.4 kB)\n",
            "Requirement already satisfied: mpmath<1.4,>=1.1.0 in /usr/local/lib/python3.11/dist-packages (from sympy>=1.3->qiskit) (1.3.0)\n",
            "Requirement already satisfied: setuptools in /usr/local/lib/python3.11/dist-packages (from pbr>=2.0.0->stevedore>=3.0.0->qiskit) (75.2.0)\n",
            "Downloading qiskit-2.0.0-cp39-abi3-manylinux_2_17_x86_64.manylinux2014_x86_64.whl (6.5 MB)\n",
            "\u001b[2K   \u001b[90m━━━━━━━━━━━━━━━━━━━━━━━━━━━━━━━━━━━━━━━━\u001b[0m \u001b[32m6.5/6.5 MB\u001b[0m \u001b[31m64.7 MB/s\u001b[0m eta \u001b[36m0:00:00\u001b[0m\n",
            "\u001b[?25hDownloading rustworkx-0.16.0-cp39-abi3-manylinux_2_17_x86_64.manylinux2014_x86_64.whl (2.1 MB)\n",
            "\u001b[2K   \u001b[90m━━━━━━━━━━━━━━━━━━━━━━━━━━━━━━━━━━━━━━━━\u001b[0m \u001b[32m2.1/2.1 MB\u001b[0m \u001b[31m35.9 MB/s\u001b[0m eta \u001b[36m0:00:00\u001b[0m\n",
            "\u001b[?25hDownloading stevedore-5.4.1-py3-none-any.whl (49 kB)\n",
            "\u001b[2K   \u001b[90m━━━━━━━━━━━━━━━━━━━━━━━━━━━━━━━━━━━━━━━━\u001b[0m \u001b[32m49.5/49.5 kB\u001b[0m \u001b[31m3.8 MB/s\u001b[0m eta \u001b[36m0:00:00\u001b[0m\n",
            "\u001b[?25hDownloading symengine-0.13.0-cp311-cp311-manylinux_2_17_x86_64.manylinux2014_x86_64.whl (49.7 MB)\n",
            "\u001b[2K   \u001b[90m━━━━━━━━━━━━━━━━━━━━━━━━━━━━━━━━━━━━━━━━\u001b[0m \u001b[32m49.7/49.7 MB\u001b[0m \u001b[31m16.2 MB/s\u001b[0m eta \u001b[36m0:00:00\u001b[0m\n",
            "\u001b[?25hDownloading pbr-6.1.1-py2.py3-none-any.whl (108 kB)\n",
            "\u001b[2K   \u001b[90m━━━━━━━━━━━━━━━━━━━━━━━━━━━━━━━━━━━━━━━━\u001b[0m \u001b[32m109.0/109.0 kB\u001b[0m \u001b[31m5.4 MB/s\u001b[0m eta \u001b[36m0:00:00\u001b[0m\n",
            "\u001b[?25hInstalling collected packages: symengine, rustworkx, pbr, stevedore, qiskit\n",
            "Successfully installed pbr-6.1.1 qiskit-2.0.0 rustworkx-0.16.0 stevedore-5.4.1 symengine-0.13.0\n"
          ]
        }
      ],
      "source": [
        "!pip install qiskit"
      ]
    },
    {
      "cell_type": "code",
      "source": [
        "pip install qiskit-aer"
      ],
      "metadata": {
        "colab": {
          "base_uri": "https://localhost:8080/"
        },
        "id": "LfZ3qApazjFN",
        "outputId": "c7c14c72-456c-4f60-f198-f5a432191ec4"
      },
      "execution_count": null,
      "outputs": [
        {
          "output_type": "stream",
          "name": "stdout",
          "text": [
            "Collecting qiskit-aer\n",
            "  Downloading qiskit_aer-0.17.0-cp311-cp311-manylinux_2_17_x86_64.manylinux2014_x86_64.whl.metadata (8.2 kB)\n",
            "Requirement already satisfied: qiskit>=1.1.0 in /usr/local/lib/python3.11/dist-packages (from qiskit-aer) (2.0.0)\n",
            "Requirement already satisfied: numpy>=1.16.3 in /usr/local/lib/python3.11/dist-packages (from qiskit-aer) (2.0.2)\n",
            "Requirement already satisfied: scipy>=1.0 in /usr/local/lib/python3.11/dist-packages (from qiskit-aer) (1.15.3)\n",
            "Requirement already satisfied: psutil>=5 in /usr/local/lib/python3.11/dist-packages (from qiskit-aer) (5.9.5)\n",
            "Requirement already satisfied: rustworkx>=0.15.0 in /usr/local/lib/python3.11/dist-packages (from qiskit>=1.1.0->qiskit-aer) (0.16.0)\n",
            "Requirement already satisfied: sympy>=1.3 in /usr/local/lib/python3.11/dist-packages (from qiskit>=1.1.0->qiskit-aer) (1.13.1)\n",
            "Requirement already satisfied: dill>=0.3 in /usr/local/lib/python3.11/dist-packages (from qiskit>=1.1.0->qiskit-aer) (0.3.7)\n",
            "Requirement already satisfied: python-dateutil>=2.8.0 in /usr/local/lib/python3.11/dist-packages (from qiskit>=1.1.0->qiskit-aer) (2.9.0.post0)\n",
            "Requirement already satisfied: stevedore>=3.0.0 in /usr/local/lib/python3.11/dist-packages (from qiskit>=1.1.0->qiskit-aer) (5.4.1)\n",
            "Requirement already satisfied: typing-extensions in /usr/local/lib/python3.11/dist-packages (from qiskit>=1.1.0->qiskit-aer) (4.13.2)\n",
            "Requirement already satisfied: symengine<0.14,>=0.11 in /usr/local/lib/python3.11/dist-packages (from qiskit>=1.1.0->qiskit-aer) (0.13.0)\n",
            "Requirement already satisfied: six>=1.5 in /usr/local/lib/python3.11/dist-packages (from python-dateutil>=2.8.0->qiskit>=1.1.0->qiskit-aer) (1.17.0)\n",
            "Requirement already satisfied: pbr>=2.0.0 in /usr/local/lib/python3.11/dist-packages (from stevedore>=3.0.0->qiskit>=1.1.0->qiskit-aer) (6.1.1)\n",
            "Requirement already satisfied: mpmath<1.4,>=1.1.0 in /usr/local/lib/python3.11/dist-packages (from sympy>=1.3->qiskit>=1.1.0->qiskit-aer) (1.3.0)\n",
            "Requirement already satisfied: setuptools in /usr/local/lib/python3.11/dist-packages (from pbr>=2.0.0->stevedore>=3.0.0->qiskit>=1.1.0->qiskit-aer) (75.2.0)\n",
            "Downloading qiskit_aer-0.17.0-cp311-cp311-manylinux_2_17_x86_64.manylinux2014_x86_64.whl (12.4 MB)\n",
            "\u001b[2K   \u001b[90m━━━━━━━━━━━━━━━━━━━━━━━━━━━━━━━━━━━━━━━━\u001b[0m \u001b[32m12.4/12.4 MB\u001b[0m \u001b[31m31.5 MB/s\u001b[0m eta \u001b[36m0:00:00\u001b[0m\n",
            "\u001b[?25hInstalling collected packages: qiskit-aer\n",
            "Successfully installed qiskit-aer-0.17.0\n"
          ]
        }
      ]
    },
    {
      "cell_type": "code",
      "source": [
        "pip install matplotlib"
      ],
      "metadata": {
        "colab": {
          "base_uri": "https://localhost:8080/"
        },
        "id": "vCvw7Y_gzk9s",
        "outputId": "18c68543-082c-44b9-fce7-62bdedbba30f"
      },
      "execution_count": null,
      "outputs": [
        {
          "output_type": "stream",
          "name": "stdout",
          "text": [
            "Requirement already satisfied: matplotlib in /usr/local/lib/python3.11/dist-packages (3.10.0)\n",
            "Requirement already satisfied: contourpy>=1.0.1 in /usr/local/lib/python3.11/dist-packages (from matplotlib) (1.3.2)\n",
            "Requirement already satisfied: cycler>=0.10 in /usr/local/lib/python3.11/dist-packages (from matplotlib) (0.12.1)\n",
            "Requirement already satisfied: fonttools>=4.22.0 in /usr/local/lib/python3.11/dist-packages (from matplotlib) (4.57.0)\n",
            "Requirement already satisfied: kiwisolver>=1.3.1 in /usr/local/lib/python3.11/dist-packages (from matplotlib) (1.4.8)\n",
            "Requirement already satisfied: numpy>=1.23 in /usr/local/lib/python3.11/dist-packages (from matplotlib) (2.0.2)\n",
            "Requirement already satisfied: packaging>=20.0 in /usr/local/lib/python3.11/dist-packages (from matplotlib) (24.2)\n",
            "Requirement already satisfied: pillow>=8 in /usr/local/lib/python3.11/dist-packages (from matplotlib) (11.2.1)\n",
            "Requirement already satisfied: pyparsing>=2.3.1 in /usr/local/lib/python3.11/dist-packages (from matplotlib) (3.2.3)\n",
            "Requirement already satisfied: python-dateutil>=2.7 in /usr/local/lib/python3.11/dist-packages (from matplotlib) (2.9.0.post0)\n",
            "Requirement already satisfied: six>=1.5 in /usr/local/lib/python3.11/dist-packages (from python-dateutil>=2.7->matplotlib) (1.17.0)\n"
          ]
        }
      ]
    },
    {
      "cell_type": "code",
      "source": [
        "pip install pylatexenc"
      ],
      "metadata": {
        "colab": {
          "base_uri": "https://localhost:8080/"
        },
        "id": "JZhuJea8zmfE",
        "outputId": "61f6bb5e-b17c-4b1e-a4c9-10aad9fc429e"
      },
      "execution_count": null,
      "outputs": [
        {
          "output_type": "stream",
          "name": "stdout",
          "text": [
            "Collecting pylatexenc\n",
            "  Downloading pylatexenc-2.10.tar.gz (162 kB)\n",
            "\u001b[?25l     \u001b[90m━━━━━━━━━━━━━━━━━━━━━━━━━━━━━━━━━━━━━━━━\u001b[0m \u001b[32m0.0/162.6 kB\u001b[0m \u001b[31m?\u001b[0m eta \u001b[36m-:--:--\u001b[0m\r\u001b[2K     \u001b[90m━━━━━━━━━━━━━━━━━━━━━━━━━━━━━━━━━━━━━━━\u001b[0m \u001b[32m162.6/162.6 kB\u001b[0m \u001b[31m9.0 MB/s\u001b[0m eta \u001b[36m0:00:00\u001b[0m\n",
            "\u001b[?25h  Preparing metadata (setup.py) ... \u001b[?25l\u001b[?25hdone\n",
            "Building wheels for collected packages: pylatexenc\n",
            "  Building wheel for pylatexenc (setup.py) ... \u001b[?25l\u001b[?25hdone\n",
            "  Created wheel for pylatexenc: filename=pylatexenc-2.10-py3-none-any.whl size=136817 sha256=466a7e7fda93bf8be872d5ab7e77273c7308fb30f9530399aa225bb265b198c8\n",
            "  Stored in directory: /root/.cache/pip/wheels/b1/7a/33/9fdd892f784ed4afda62b685ae3703adf4c91aa0f524c28f03\n",
            "Successfully built pylatexenc\n",
            "Installing collected packages: pylatexenc\n",
            "Successfully installed pylatexenc-2.10\n"
          ]
        }
      ]
    },
    {
      "cell_type": "code",
      "source": [
        "from qiskit import QuantumCircuit, QuantumRegister, ClassicalRegister\n",
        "from qiskit_aer import AerSimulator\n",
        "\n",
        "# Criando um registrador quântico com 2 qubits\n",
        "q = QuantumRegister(2, 'q')\n",
        "# Criando registradores clássicos para medições\n",
        "c = ClassicalRegister(2, 'c')\n",
        "\n",
        "# Criando o circuito quântico\n",
        "bell_circuit = QuantumCircuit(q, c)\n",
        "\n",
        "# Aplicando Hadamard no primeiro qubit\n",
        "bell_circuit.h(q[0])\n",
        "# Aplicando CNOT com o primeiro qubit como controle e o segundo como alvo\n",
        "bell_circuit.cx(q[0], q[1])\n",
        "\n",
        "# Medindo os qubits\n",
        "bell_circuit.measure(q, c)\n",
        "\n",
        "# Configurando o simulador\n",
        "simulator = AerSimulator()\n",
        "\n",
        "# Exibir o circuito\n",
        "bell_circuit.draw(output='mpl', scale=0.5)"
      ],
      "metadata": {
        "colab": {
          "base_uri": "https://localhost:8080/",
          "height": 146
        },
        "id": "Cv_6KALAzoeU",
        "outputId": "69e68498-c4fc-4e0b-af0c-8443c35cac2a"
      },
      "execution_count": null,
      "outputs": [
        {
          "output_type": "execute_result",
          "data": {
            "text/plain": [
              "<Figure size 227.258x142.139 with 1 Axes>"
            ],
            "image/png": "[encoded data removed]"
          },
          "metadata": {},
          "execution_count": 5
        }
      ]
    },
    {
      "cell_type": "code",
      "source": [
        "\n",
        "# Criando o circuito quântico\n",
        "bell_circuit = QuantumCircuit(q, c)\n",
        "\n",
        "# Inicializando o segundo qubit no estado |1>\n",
        "bell_circuit.x(q[1])\n",
        "\n",
        "# Aplicando Hadamard no primeiro qubit\n",
        "bell_circuit.h(q[0])\n",
        "# Aplicando CNOT com o primeiro qubit como controle e o segundo como alvo\n",
        "bell_circuit.cx(q[0], q[1])\n",
        "\n",
        "# Medindo os qubits\n",
        "bell_circuit.measure(q, c)\n",
        "\n",
        "# Configurando o simulador\n",
        "simulator = AerSimulator()\n",
        "\n",
        "# Exibir o circuito\n",
        "bell_circuit.draw(output='mpl', scale=0.5)"
      ],
      "metadata": {
        "colab": {
          "base_uri": "https://localhost:8080/",
          "height": 146
        },
        "id": "2VUakdm7z8HK",
        "outputId": "b549a7e6-09c6-482d-a32a-49787c9b1a53"
      },
      "execution_count": null,
      "outputs": [
        {
          "output_type": "execute_result",
          "data": {
            "text/plain": [
              "<Figure size 227.258x142.139 with 1 Axes>"
            ],
            "image/png": "[encoded data removed]"
          },
          "metadata": {},
          "execution_count": 6
        }
      ]
    },
    {
      "cell_type": "code",
      "source": [
        "# Criando o circuito quântico\n",
        "bell_circuit = QuantumCircuit(q, c)\n",
        "\n",
        "# Inicializando o primeiro qubit no estado |1>\n",
        "bell_circuit.x(q[0])\n",
        "\n",
        "# Aplicando Hadamard no primeiro qubit\n",
        "bell_circuit.h(q[0])\n",
        "# Aplicando CNOT com o primeiro qubit como controle e o segundo como alvo\n",
        "bell_circuit.cx(q[0], q[1])\n",
        "\n",
        "# Medindo os qubits\n",
        "bell_circuit.measure(q, c)\n",
        "\n",
        "# Configurando o simulador\n",
        "simulator = AerSimulator()\n",
        "\n",
        "# Exibir o circuito\n",
        "bell_circuit.draw(output='mpl', scale=0.5)"
      ],
      "metadata": {
        "colab": {
          "base_uri": "https://localhost:8080/",
          "height": 146
        },
        "id": "ykITgU9Zz8t0",
        "outputId": "bcdfd1f0-83ee-4655-ce94-b2b0087eb469"
      },
      "execution_count": null,
      "outputs": [
        {
          "output_type": "execute_result",
          "data": {
            "text/plain": [
              "<Figure size 269.064x142.139 with 1 Axes>"
            ],
            "image/png": "[encoded data removed]"
          },
          "metadata": {},
          "execution_count": 7
        }
      ]
    },
    {
      "cell_type": "code",
      "source": [
        "# Criando o circuito quântico\n",
        "bell_circuit = QuantumCircuit(q, c)\n",
        "\n",
        "# Inicializando ambos os qubits no estado |1>\n",
        "bell_circuit.x(q[0])\n",
        "bell_circuit.x(q[1])\n",
        "\n",
        "# Aplicando Hadamard no primeiro qubit\n",
        "bell_circuit.h(q[0])\n",
        "# Aplicando CNOT com o primeiro qubit como controle e o segundo como alvo\n",
        "bell_circuit.cx(q[0], q[1])\n",
        "\n",
        "# Medindo os qubits\n",
        "bell_circuit.measure(q, c)\n",
        "\n",
        "# Configurando o simulador\n",
        "simulator = AerSimulator()\n",
        "\n",
        "# Exibir o circuito\n",
        "bell_circuit.draw(output='mpl', scale=0.5)"
      ],
      "metadata": {
        "colab": {
          "base_uri": "https://localhost:8080/",
          "height": 146
        },
        "id": "BCLRnJMi0I58",
        "outputId": "7d5e41a8-4aed-4d05-f23f-9ddd3a22ec9a"
      },
      "execution_count": null,
      "outputs": [
        {
          "output_type": "execute_result",
          "data": {
            "text/plain": [
              "<Figure size 269.064x142.139 with 1 Axes>"
            ],
            "image/png": "[encoded data removed]"
          },
          "metadata": {},
          "execution_count": 8
        }
      ]
    },
    {
      "cell_type": "code",
      "source": [
        "!pip install qiskit-aer\n"
      ],
      "metadata": {
        "colab": {
          "base_uri": "https://localhost:8080/"
        },
        "id": "nabboNQD2OG0",
        "outputId": "2eebbbcd-9558-4b7a-c071-1b108210f86c"
      },
      "execution_count": null,
      "outputs": [
        {
          "output_type": "stream",
          "name": "stdout",
          "text": [
            "Requirement already satisfied: qiskit-aer in /usr/local/lib/python3.11/dist-packages (0.17.0)\n",
            "Requirement already satisfied: qiskit>=1.1.0 in /usr/local/lib/python3.11/dist-packages (from qiskit-aer) (2.0.0)\n",
            "Requirement already satisfied: numpy>=1.16.3 in /usr/local/lib/python3.11/dist-packages (from qiskit-aer) (2.0.2)\n",
            "Requirement already satisfied: scipy>=1.0 in /usr/local/lib/python3.11/dist-packages (from qiskit-aer) (1.15.3)\n",
            "Requirement already satisfied: psutil>=5 in /usr/local/lib/python3.11/dist-packages (from qiskit-aer) (5.9.5)\n",
            "Requirement already satisfied: rustworkx>=0.15.0 in /usr/local/lib/python3.11/dist-packages (from qiskit>=1.1.0->qiskit-aer) (0.16.0)\n",
            "Requirement already satisfied: sympy>=1.3 in /usr/local/lib/python3.11/dist-packages (from qiskit>=1.1.0->qiskit-aer) (1.13.1)\n",
            "Requirement already satisfied: dill>=0.3 in /usr/local/lib/python3.11/dist-packages (from qiskit>=1.1.0->qiskit-aer) (0.3.7)\n",
            "Requirement already satisfied: python-dateutil>=2.8.0 in /usr/local/lib/python3.11/dist-packages (from qiskit>=1.1.0->qiskit-aer) (2.9.0.post0)\n",
            "Requirement already satisfied: stevedore>=3.0.0 in /usr/local/lib/python3.11/dist-packages (from qiskit>=1.1.0->qiskit-aer) (5.4.1)\n",
            "Requirement already satisfied: typing-extensions in /usr/local/lib/python3.11/dist-packages (from qiskit>=1.1.0->qiskit-aer) (4.13.2)\n",
            "Requirement already satisfied: symengine<0.14,>=0.11 in /usr/local/lib/python3.11/dist-packages (from qiskit>=1.1.0->qiskit-aer) (0.13.0)\n",
            "Requirement already satisfied: six>=1.5 in /usr/local/lib/python3.11/dist-packages (from python-dateutil>=2.8.0->qiskit>=1.1.0->qiskit-aer) (1.17.0)\n",
            "Requirement already satisfied: pbr>=2.0.0 in /usr/local/lib/python3.11/dist-packages (from stevedore>=3.0.0->qiskit>=1.1.0->qiskit-aer) (6.1.1)\n",
            "Requirement already satisfied: mpmath<1.4,>=1.1.0 in /usr/local/lib/python3.11/dist-packages (from sympy>=1.3->qiskit>=1.1.0->qiskit-aer) (1.3.0)\n",
            "Requirement already satisfied: setuptools in /usr/local/lib/python3.11/dist-packages (from pbr>=2.0.0->stevedore>=3.0.0->qiskit>=1.1.0->qiskit-aer) (75.2.0)\n"
          ]
        }
      ]
    },
    {
      "cell_type": "code",
      "source": [
        "from qiskit import*\n",
        "from qiskit_aer import Aer\n",
        "from qiskit.visualization import plot_histogram\n",
        "from qiskit.circuit.library import XGate, ZGate\n",
        "\n",
        "# Etapa 1: Circuito até as medições da Alice\n",
        "qreg = QuantumRegister(3, 'q')\n",
        "creg = ClassicalRegister(2, 'c')  # Só precisamos medir q[0] e q[1] agora\n",
        "\n",
        "qc1 = QuantumCircuit(qreg, creg)\n",
        "\n",
        "# Estado de Bell\n",
        "qc1.h(qreg[1])\n",
        "qc1.cx(qreg[1], qreg[2])\n",
        "\n",
        "# Estado a ser teleportado (|+>)\n",
        "qc1.h(qreg[0])\n",
        "\n",
        "# Medidas de Alice\n",
        "qc1.cx(qreg[0], qreg[1])\n",
        "qc1.h(qreg[0])\n",
        "qc1.measure(qreg[0], creg[0])  # c0\n",
        "qc1.measure(qreg[1], creg[1])  # c1\n",
        "\n",
        "# Executar primeira parte\n",
        "sim = Aer.get_backend('aer_simulator')\n",
        "qc1 = qc1.copy()\n",
        "qc1.save_statevector()\n",
        "result1 = execute(qc1, sim, shots=1, memory=True).result()\n",
        "memory = result1.get_memory()\n",
        "bit_c0 = int(memory[0][1])  # c0\n",
        "bit_c1 = int(memory[0][0])  # c1\n",
        "\n",
        "print(f'Medições de Alice: c0 = {bit_c0}, c1 = {bit_c1}')\n",
        "\n",
        "# Etapa 2: Correções de Bob\n",
        "qreg2 = QuantumRegister(1, 'q2')\n",
        "creg2 = ClassicalRegister(1, 'c2')\n",
        "qc2 = QuantumCircuit(qreg2, creg2)\n",
        "\n",
        "# Recuperar o qubit de Bob\n",
        "# Inicializa no estado apropriado (assumido como resultado do teletransporte)\n",
        "# Para simulação, vamos usar o mesmo estado |q2⟩ do circuito anterior\n",
        "# Mas aqui só simulamos a aplicação condicional\n",
        "\n",
        "# Aplicar correções conforme resultados de Alice\n",
        "if bit_c0 == 1:\n",
        "    qc2.z(qreg2[0])\n",
        "if bit_c1 == 1:\n",
        "    qc2.x(qreg2[0])\n",
        "\n",
        "# Medir o qubit de Bob\n",
        "qc2.measure(qreg2[0], creg2[0])\n",
        "\n",
        "# Resultado final\n",
        "result2 = execute(qc2, sim, shots=1024).result()\n",
        "counts = result2.get_counts()\n",
        "\n",
        "# Mostrar resultado\n",
        "print(\"Resultado da medição final do qubit de Bob:\")\n",
        "display(plot_histogram(counts))\n",
        "\n"
      ],
      "metadata": {
        "colab": {
          "base_uri": "https://localhost:8080/",
          "height": 211
        },
        "id": "S6LkqMxM0MfN",
        "outputId": "9b3e43e0-beec-42f3-bb3c-61e1aaa5d818"
      },
      "execution_count": null,
      "outputs": [
        {
          "output_type": "error",
          "ename": "NameError",
          "evalue": "name 'execute' is not defined",
          "traceback": [
            "\u001b[0;31m---------------------------------------------------------------------------\u001b[0m",
            "\u001b[0;31mNameError\u001b[0m                                 Traceback (most recent call last)",
            "\u001b[0;32m<ipython-input-20-ea22ac9a9528>\u001b[0m in \u001b[0;36m<cell line: 0>\u001b[0;34m()\u001b[0m\n\u001b[1;32m     27\u001b[0m \u001b[0mqc1\u001b[0m \u001b[0;34m=\u001b[0m \u001b[0mqc1\u001b[0m\u001b[0;34m.\u001b[0m\u001b[0mcopy\u001b[0m\u001b[0;34m(\u001b[0m\u001b[0;34m)\u001b[0m\u001b[0;34m\u001b[0m\u001b[0;34m\u001b[0m\u001b[0m\n\u001b[1;32m     28\u001b[0m \u001b[0mqc1\u001b[0m\u001b[0;34m.\u001b[0m\u001b[0msave_statevector\u001b[0m\u001b[0;34m(\u001b[0m\u001b[0;34m)\u001b[0m\u001b[0;34m\u001b[0m\u001b[0;34m\u001b[0m\u001b[0m\n\u001b[0;32m---> 29\u001b[0;31m \u001b[0mresult1\u001b[0m \u001b[0;34m=\u001b[0m \u001b[0mexecute\u001b[0m\u001b[0;34m(\u001b[0m\u001b[0mqc1\u001b[0m\u001b[0;34m,\u001b[0m \u001b[0msim\u001b[0m\u001b[0;34m,\u001b[0m \u001b[0mshots\u001b[0m\u001b[0;34m=\u001b[0m\u001b[0;36m1\u001b[0m\u001b[0;34m,\u001b[0m \u001b[0mmemory\u001b[0m\u001b[0;34m=\u001b[0m\u001b[0;32mTrue\u001b[0m\u001b[0;34m)\u001b[0m\u001b[0;34m.\u001b[0m\u001b[0mresult\u001b[0m\u001b[0;34m(\u001b[0m\u001b[0;34m)\u001b[0m\u001b[0;34m\u001b[0m\u001b[0;34m\u001b[0m\u001b[0m\n\u001b[0m\u001b[1;32m     30\u001b[0m \u001b[0mmemory\u001b[0m \u001b[0;34m=\u001b[0m \u001b[0mresult1\u001b[0m\u001b[0;34m.\u001b[0m\u001b[0mget_memory\u001b[0m\u001b[0;34m(\u001b[0m\u001b[0;34m)\u001b[0m\u001b[0;34m\u001b[0m\u001b[0;34m\u001b[0m\u001b[0m\n\u001b[1;32m     31\u001b[0m \u001b[0mbit_c0\u001b[0m \u001b[0;34m=\u001b[0m \u001b[0mint\u001b[0m\u001b[0;34m(\u001b[0m\u001b[0mmemory\u001b[0m\u001b[0;34m[\u001b[0m\u001b[0;36m0\u001b[0m\u001b[0;34m]\u001b[0m\u001b[0;34m[\u001b[0m\u001b[0;36m1\u001b[0m\u001b[0;34m]\u001b[0m\u001b[0;34m)\u001b[0m  \u001b[0;31m# c0\u001b[0m\u001b[0;34m\u001b[0m\u001b[0;34m\u001b[0m\u001b[0m\n",
            "\u001b[0;31mNameError\u001b[0m: name 'execute' is not defined"
          ]
        }
      ]
    },
    {
      "cell_type": "code",
      "source": [
        "# Importações (Qiskit 2.x)\n",
        "from qiskit import QuantumCircuit\n",
        "from qiskit_aer import Aer\n",
        "from qiskit.visualization import plot_histogram\n",
        "import matplotlib.pyplot as plt\n",
        "\n",
        "# Circuito com 3 qubits e 3 bits clássicos\n",
        "qc = QuantumCircuit(3, 3)\n",
        "\n",
        "# Estado inicial de Alice (qubit 0): |+>\n",
        "qc.h(0)\n",
        "\n",
        "# Emaranhar qubit 1 (Alice) e qubit 2 (Bob)\n",
        "qc.h(1)\n",
        "qc.cx(1, 2)\n",
        "\n",
        "# Bell measurement de Alice\n",
        "qc.cx(0, 1)\n",
        "qc.h(0)\n",
        "\n",
        "# Medições de Alice\n",
        "qc.measure(0, 0)\n",
        "qc.measure(1, 1)\n",
        "\n",
        "# Correções em Bob (serão aplicadas depois no código, não no circuito)\n",
        "qc.barrier()\n",
        "qc.measure(2, 2)\n",
        "\n",
        "# Executar no Aer simulator (novo formato Qiskit 2.0)\n",
        "backend = Aer.get_backend('aer_simulator')\n",
        "result = backend.run(qc, shots=1024).result()\n",
        "counts = result.get_counts()\n",
        "\n",
        "# Mostrar histograma dos resultados\n",
        "plot_histogram(counts)\n",
        "plt.show()\n",
        "qc.draw(output='mpl', scale=0.5)\n"
      ],
      "metadata": {
        "colab": {
          "base_uri": "https://localhost:8080/",
          "height": 178
        },
        "id": "4EcD0wjS1GJf",
        "outputId": "dcbf2712-d98e-46ed-d68f-0e5fff002483"
      },
      "execution_count": null,
      "outputs": [
        {
          "output_type": "execute_result",
          "data": {
            "text/plain": [
              "<Figure size 352.776x183.944 with 1 Axes>"
            ],
            "image/png": "[encoded data removed]"
          },
          "metadata": {},
          "execution_count": 32
        }
      ]
    },
    {
      "cell_type": "code",
      "source": [
        "plot_histogram(counts)\n"
      ],
      "metadata": {
        "colab": {
          "base_uri": "https://localhost:8080/",
          "height": 487
        },
        "id": "1S6H_zzI33aO",
        "outputId": "2c1c53cd-ac3c-4129-b3cd-639ffb877c9f"
      },
      "execution_count": null,
      "outputs": [
        {
          "output_type": "execute_result",
          "data": {
            "text/plain": [
              "<Figure size 640x480 with 1 Axes>"
            ],
            "image/png": "[encoded data removed]"
          },
          "metadata": {},
          "execution_count": 27
        }
      ]
    },
    {
      "cell_type": "code",
      "source": [
        "# Instalar Qiskit se ainda não estiver\n",
        "!pip install qiskit qiskit-aer --quiet\n",
        "\n",
        "\n"
      ],
      "metadata": {
        "id": "TElIkF1p5p5Z"
      },
      "execution_count": null,
      "outputs": []
    },
    {
      "cell_type": "code",
      "source": [
        "!pip install qiskit-aer --upgrade --quiet\n"
      ],
      "metadata": {
        "id": "uBcGE9xf52LF"
      },
      "execution_count": null,
      "outputs": []
    },
    {
      "cell_type": "code",
      "source": [
        "from qiskit_aer import Aer\n"
      ],
      "metadata": {
        "id": "JgpTyCv855tC"
      },
      "execution_count": null,
      "outputs": []
    },
    {
      "cell_type": "markdown",
      "source": [],
      "metadata": {
        "id": "Kv2mJqu74ci5"
      }
    },
    {
      "cell_type": "code",
      "source": [
        "from qiskit import QuantumCircuit, QuantumRegister, ClassicalRegister\n",
        "from qiskit_aer import Aer\n",
        "\n",
        "from qiskit.visualization import plot_histogram\n",
        "import matplotlib.pyplot as plt\n",
        "\n",
        "# Criando registros quânticos e clássicos\n",
        "q = QuantumRegister(3, 'q')  # 3 qubits\n",
        "c0 = ClassicalRegister(1, 'c0')  # Registradores clássicos para armazenar medições\n",
        "c1 = ClassicalRegister(1, 'c1')\n",
        "c2 = ClassicalRegister(1, 'c2')\n",
        "\n",
        "# Criando o circuito quântico\n",
        "teleport = QuantumCircuit(q, c0, c1, c2)\n",
        "\n",
        "# Criar o estado emaranhado compartilhado (Bell state)\n",
        "teleport.h(q[1])          # Aplicando porta Hadamard ao qubit 1\n",
        "teleport.cx(q[1], q[2])   # Aplicando CNOT com q[1] como controle e q[2] como alvo\n",
        "\n",
        "# Preparar o qubit da Alice\n",
        "teleport.h(q[0])          # Aplicando porta Hadamard ao qubit 0\n",
        "\n",
        "# Alice aplica as portas de teletransporte (projetando na base de Bell)\n",
        "teleport.cx(q[0], q[1])   # Aplicando CNOT com q[0] como controle e q[1] como alvo\n",
        "teleport.h(q[0])          # Aplicando porta Hadamard ao qubit 0\n",
        "\n",
        "# Alice mede seus qubits\n",
        "teleport.measure(q[0], c0)  # Medindo q[0] e armazenando o resultado em c0\n",
        "teleport.measure(q[1], c1)  # Medindo q[1] e armazenando o resultado em c1\n",
        "\n",
        "# Bob aplica as operações baseadas nas medições de Alice\n",
        "# Bob aplica a operação X se c1 for 1\n",
        "teleport.x(q[2]).c_if(c1, 1)\n",
        "\n",
        "# Bob aplica a operação Z se c0 for 1\n",
        "teleport.z(q[2]).c_if(c0, 1)\n",
        "\n",
        "# Medir o estado final do qubit de Bob\n",
        "teleport.measure(q[2], c2)  # Medindo q[2] e armazenando o resultado em c2\n",
        "\n",
        "# Configurando o simulador\n",
        "simulator = AerSimulator()\n",
        "\n",
        "# Transpilando o circuito para o simulador\n",
        "teleport = transpile(teleport, simulator)\n",
        "\n",
        "# Executar o circuito no simulador\n",
        "result = simulator.run(teleport).result()\n",
        "\n",
        "# Exibir os resultados\n",
        "counts = result.get_counts()\n",
        "plot_histogram(counts)\n",
        "plt.show()\n",
        "\n",
        "# Exibir o circuito usando Matplotlib\n",
        "teleport.draw(output='mpl', scale=0.5)\n"
      ],
      "metadata": {
        "colab": {
          "base_uri": "https://localhost:8080/",
          "height": 211
        },
        "id": "9RXh3TX368oz",
        "outputId": "e0affedf-ee9a-4579-b082-f1d1db658ef8"
      },
      "execution_count": null,
      "outputs": [
        {
          "output_type": "error",
          "ename": "AttributeError",
          "evalue": "'InstructionSet' object has no attribute 'c_if'",
          "traceback": [
            "\u001b[0;31m---------------------------------------------------------------------------\u001b[0m",
            "\u001b[0;31mAttributeError\u001b[0m                            Traceback (most recent call last)",
            "\u001b[0;32m<ipython-input-50-5e9a39722ba5>\u001b[0m in \u001b[0;36m<cell line: 0>\u001b[0;34m()\u001b[0m\n\u001b[1;32m     31\u001b[0m \u001b[0;31m# Bob aplica as operações baseadas nas medições de Alice\u001b[0m\u001b[0;34m\u001b[0m\u001b[0;34m\u001b[0m\u001b[0m\n\u001b[1;32m     32\u001b[0m \u001b[0;31m# Bob aplica a operação X se c1 for 1\u001b[0m\u001b[0;34m\u001b[0m\u001b[0;34m\u001b[0m\u001b[0m\n\u001b[0;32m---> 33\u001b[0;31m \u001b[0mteleport\u001b[0m\u001b[0;34m.\u001b[0m\u001b[0mx\u001b[0m\u001b[0;34m(\u001b[0m\u001b[0mq\u001b[0m\u001b[0;34m[\u001b[0m\u001b[0;36m2\u001b[0m\u001b[0;34m]\u001b[0m\u001b[0;34m)\u001b[0m\u001b[0;34m.\u001b[0m\u001b[0mc_if\u001b[0m\u001b[0;34m(\u001b[0m\u001b[0mc1\u001b[0m\u001b[0;34m,\u001b[0m \u001b[0;36m1\u001b[0m\u001b[0;34m)\u001b[0m\u001b[0;34m\u001b[0m\u001b[0;34m\u001b[0m\u001b[0m\n\u001b[0m\u001b[1;32m     34\u001b[0m \u001b[0;34m\u001b[0m\u001b[0m\n\u001b[1;32m     35\u001b[0m \u001b[0;31m# Bob aplica a operação Z se c0 for 1\u001b[0m\u001b[0;34m\u001b[0m\u001b[0;34m\u001b[0m\u001b[0m\n",
            "\u001b[0;31mAttributeError\u001b[0m: 'InstructionSet' object has no attribute 'c_if'"
          ]
        }
      ]
    },
    {
      "cell_type": "code",
      "source": [
        "from qiskit import QuantumCircuit, transpile\n",
        "from qiskit.quantum_info import Statevector\n",
        "from qiskit_aer import AerSimulator\n",
        "from qiskit.visualization import plot_histogram\n",
        "import matplotlib.pyplot as plt\n",
        "\n",
        "# Circuito para teleportar o estado |+> de q0 para q2\n",
        "def create_teleportation_circuit(meas_result):\n",
        "    qc = QuantumCircuit(3, 3)\n",
        "\n",
        "    # Criar estado de Bell entre q1 e q2\n",
        "    qc.h(1)\n",
        "    qc.cx(1, 2)\n",
        "\n",
        "    # Preparar estado a ser teleportado: |+> = H|0>\n",
        "    qc.h(0)\n",
        "\n",
        "    # Alice aplica portas para teletransporte\n",
        "    qc.cx(0, 1)\n",
        "    qc.h(0)\n",
        "\n",
        "    # Medições de Alice\n",
        "    qc.measure(0, 0)\n",
        "    qc.measure(1, 1)\n",
        "\n",
        "    # Correções de Bob baseadas no resultado\n",
        "    if meas_result == '00':\n",
        "        pass  # nenhuma correção\n",
        "    elif meas_result == '01':\n",
        "        qc.x(2)\n",
        "    elif meas_result == '10':\n",
        "        qc.z(2)\n",
        "    elif meas_result == '11':\n",
        "        qc.z(2)\n",
        "        qc.x(2)\n",
        "\n",
        "    # Medir o qubit de Bob\n",
        "    qc.measure(2, 2)\n",
        "    return qc\n",
        "\n",
        "# Simulador\n",
        "simulator = AerSimulator()\n",
        "\n",
        "# Dicionário para armazenar os resultados\n",
        "results = {}\n",
        "\n",
        "# Executar para cada resultado possível de Alice\n",
        "for meas_result in ['00', '01', '10', '11']:\n",
        "    qc = create_teleportation_circuit(meas_result)\n",
        "    compiled = transpile(qc, simulator)\n",
        "    job = simulator.run(compiled, shots=3000, memory=False)\n",
        "    result = job.result()\n",
        "    counts = result.get_counts()\n",
        "    results[meas_result] = counts\n",
        "\n",
        "\n",
        "qc.draw(output='mpl', scale=0.5)"
      ],
      "metadata": {
        "colab": {
          "base_uri": "https://localhost:8080/",
          "height": 178
        },
        "id": "K1GpACk87qhC",
        "outputId": "1dde9372-d3b9-4769-ba98-f7b41c587208"
      },
      "execution_count": null,
      "outputs": [
        {
          "output_type": "execute_result",
          "data": {
            "text/plain": [
              "<Figure size 352.776x183.944 with 1 Axes>"
            ],
            "image/png": "[encoded data removed]"
          },
          "metadata": {},
          "execution_count": 60
        }
      ]
    },
    {
      "cell_type": "code",
      "source": [
        "from qiskit import QuantumCircuit, transpile\n",
        "from qiskit_aer import AerSimulator\n",
        "from qiskit.visualization import plot_histogram\n",
        "import matplotlib.pyplot as plt\n",
        "\n",
        "# Mapeamento de correções baseado no resultado da medição de Alice\n",
        "corrections = {\n",
        "    '00': [],\n",
        "    '01': ['X'],\n",
        "    '10': ['Z'],\n",
        "    '11': ['Z', 'X']\n",
        "}\n",
        "\n",
        "# Simulador\n",
        "simulator = AerSimulator()\n",
        "\n",
        "# Loop sobre os 4 possíveis resultados da medição de Alice\n",
        "for meas_result in ['00', '01', '10', '11']:\n",
        "    # Criar circuito\n",
        "    qc = QuantumCircuit(3, 3)\n",
        "\n",
        "    # Criar par de Bell entre q1 e q2\n",
        "    qc.h(1)\n",
        "    qc.cx(1, 2)\n",
        "\n",
        "    # Preparar o estado de entrada: |+⟩ = H|0⟩\n",
        "    qc.h(0)\n",
        "\n",
        "    # Teletransporte: Alice\n",
        "    qc.cx(0, 1)\n",
        "    qc.h(0)\n",
        "    qc.barrier()\n",
        "\n",
        "    # Medições de Alice\n",
        "    qc.measure(0, 0)\n",
        "    qc.measure(1, 1)\n",
        "    qc.barrier()\n",
        "\n",
        "    # Correções de Bob baseadas em meas_result\n",
        "    if meas_result == '01':\n",
        "        qc.x(2)\n",
        "    elif meas_result == '10':\n",
        "        qc.z(2)\n",
        "    elif meas_result == '11':\n",
        "        qc.z(2)\n",
        "        qc.x(2)\n",
        "\n",
        "    # Medição final de Bob\n",
        "    qc.measure(2, 2)\n",
        "\n",
        "    # Transpilar e simular\n",
        "    compiled = transpile(qc, simulator)\n",
        "    job = simulator.run(compiled, shots=1, memory=True)  # apenas 1 shot para simplificar\n",
        "    result = job.result()\n",
        "    memory = result.get_memory()[0]  # resultado no formato 'c2c1c0'\n",
        "\n",
        "    # Quebrar resultado em bits\n",
        "    bob_meas = memory[0]  # c2\n",
        "    alice_meas = memory[2] + memory[1]  # c0c1 (como string, mesma ordem usada em nosso loop)\n",
        "\n",
        "    # Exibir informações\n",
        "    print(\"=\"*40)\n",
        "    print(f\"Resultado simulado da medição de Alice: {meas_result}\")\n",
        "    print(\"Correções aplicadas por Bob:\", 'Nenhuma' if not corrections[meas_result] else ' e '.join(corrections[meas_result]))\n",
        "    print(f\"Bob mediu o qubit final como: |{bob_meas}⟩\")\n",
        "    print(\"\\nCircuito:\")\n",
        "    display(qc.draw('mpl', scale=0.8))\n"
      ],
      "metadata": {
        "colab": {
          "base_uri": "https://localhost:8080/",
          "height": 1000
        },
        "id": "FY0x_GXD-DMv",
        "outputId": "c743bbbb-8ed6-4e34-b0df-cbd96b97ecf6"
      },
      "execution_count": null,
      "outputs": [
        {
          "output_type": "stream",
          "name": "stdout",
          "text": [
            "========================================\n",
            "Resultado simulado da medição de Alice: 00\n",
            "Correções aplicadas por Bob: Nenhuma\n",
            "Bob mediu o qubit final como: |1⟩\n",
            "\n",
            "Circuito:\n"
          ]
        },
        {
          "output_type": "display_data",
          "data": {
            "text/plain": [
              "<Figure size 698.219x294.311 with 1 Axes>"
            ],
            "image/png": "[encoded data removed]"
          },
          "metadata": {}
        },
        {
          "output_type": "stream",
          "name": "stdout",
          "text": [
            "========================================\n",
            "Resultado simulado da medição de Alice: 01\n",
            "Correções aplicadas por Bob: X\n",
            "Bob mediu o qubit final como: |0⟩\n",
            "\n",
            "Circuito:\n"
          ]
        },
        {
          "output_type": "display_data",
          "data": {
            "text/plain": [
              "<Figure size 765.108x294.311 with 1 Axes>"
            ],
            "image/png": "[encoded data removed]"
          },
          "metadata": {}
        },
        {
          "output_type": "stream",
          "name": "stdout",
          "text": [
            "========================================\n",
            "Resultado simulado da medição de Alice: 10\n",
            "Correções aplicadas por Bob: Z\n",
            "Bob mediu o qubit final como: |0⟩\n",
            "\n",
            "Circuito:\n"
          ]
        },
        {
          "output_type": "display_data",
          "data": {
            "text/plain": [
              "<Figure size 765.108x294.311 with 1 Axes>"
            ],
            "image/png": "[encoded data removed]"
          },
          "metadata": {}
        },
        {
          "output_type": "stream",
          "name": "stdout",
          "text": [
            "========================================\n",
            "Resultado simulado da medição de Alice: 11\n",
            "Correções aplicadas por Bob: Z e X\n",
            "Bob mediu o qubit final como: |1⟩\n",
            "\n",
            "Circuito:\n"
          ]
        },
        {
          "output_type": "display_data",
          "data": {
            "text/plain": [
              "<Figure size 831.997x294.311 with 1 Axes>"
            ],
            "image/png": "[encoded data removed]"
          },
          "metadata": {}
        }
      ]
    }
  ]
}